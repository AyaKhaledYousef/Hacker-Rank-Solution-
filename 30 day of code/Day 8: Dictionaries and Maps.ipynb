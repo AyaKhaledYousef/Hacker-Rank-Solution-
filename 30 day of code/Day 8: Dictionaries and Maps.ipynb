{
 "cells": [
  {
   "cell_type": "markdown",
   "metadata": {},
   "source": [
    "# Day 8: Dictionaries and Maps"
   ]
  },
  {
   "cell_type": "code",
   "execution_count": null,
   "metadata": {},
   "outputs": [
    {
     "name": "stdout",
     "output_type": "stream",
     "text": [
      "3\n",
      "aya 09989\n",
      "khaled 09765\n",
      "nada 9999\n",
      "aya\n",
      "aya=09989\n",
      "jhhk\n",
      "Not found\n"
     ]
    }
   ],
   "source": [
    "# Enter your code here. Read input from STDIN. Print output to STDOUT\n",
    "\n",
    "N=int(input())\n",
    "\n",
    "name_and_numbers =[input().split() for _ in range (N)]\n",
    "Phone_book={k:v for k,v in name_and_numbers }\n",
    "\n",
    "while True:\n",
    "    try:\n",
    "        name=input()\n",
    "        if name in Phone_book :\n",
    "            print('%s=%s' % (name, Phone_book[name]))\n",
    "        else:\n",
    "            print(\"Not found\")\n",
    "    except:\n",
    "        break"
   ]
  },
  {
   "cell_type": "code",
   "execution_count": null,
   "metadata": {},
   "outputs": [],
   "source": []
  }
 ],
 "metadata": {
  "kernelspec": {
   "display_name": "Python 3",
   "language": "python",
   "name": "python3"
  },
  "language_info": {
   "codemirror_mode": {
    "name": "ipython",
    "version": 3
   },
   "file_extension": ".py",
   "mimetype": "text/x-python",
   "name": "python",
   "nbconvert_exporter": "python",
   "pygments_lexer": "ipython3",
   "version": "3.6.7"
  }
 },
 "nbformat": 4,
 "nbformat_minor": 2
}
