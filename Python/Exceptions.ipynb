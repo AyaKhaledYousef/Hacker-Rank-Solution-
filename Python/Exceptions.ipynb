{
 "cells": [
  {
   "cell_type": "markdown",
   "metadata": {},
   "source": [
    "# Exceptions\n",
    "\n"
   ]
  },
  {
   "cell_type": "code",
   "execution_count": 2,
   "metadata": {},
   "outputs": [
    {
     "name": "stdout",
     "output_type": "stream",
     "text": [
      "3\n",
      "1 0\n",
      "Error Code: integer division or modulo by zero\n",
      "2 8\n",
      "0\n",
      "4 #\n",
      "Error Code: invalid literal for int() with base 10: '#'\n"
     ]
    }
   ],
   "source": [
    "for i in range(int(input())):\n",
    "    try:\n",
    "        a,b=map(int,input().split())\n",
    "        print(a//b)\n",
    "    except Exception as e:\n",
    "        print(\"Error Code:\",e)\n"
   ]
  },
  {
   "cell_type": "code",
   "execution_count": null,
   "metadata": {},
   "outputs": [],
   "source": []
  },
  {
   "cell_type": "code",
   "execution_count": null,
   "metadata": {
    "collapsed": true
   },
   "outputs": [],
   "source": []
  }
 ],
 "metadata": {
  "kernelspec": {
   "display_name": "Python 3",
   "language": "python",
   "name": "python3"
  },
  "language_info": {
   "codemirror_mode": {
    "name": "ipython",
    "version": 3
   },
   "file_extension": ".py",
   "mimetype": "text/x-python",
   "name": "python",
   "nbconvert_exporter": "python",
   "pygments_lexer": "ipython3",
   "version": "3.6.8"
  }
 },
 "nbformat": 4,
 "nbformat_minor": 2
}
