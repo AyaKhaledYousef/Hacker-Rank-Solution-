{
 "cells": [
  {
   "cell_type": "markdown",
   "metadata": {},
   "source": [
    "# Sum and Prod"
   ]
  },
  {
   "cell_type": "code",
   "execution_count": 11,
   "metadata": {},
   "outputs": [
    {
     "name": "stdout",
     "output_type": "stream",
     "text": [
      "2 4\n",
      "1 1 1 1\n",
      "2 2 2 2\n",
      "81\n"
     ]
    }
   ],
   "source": [
    "import numpy as np\n",
    "N,M=map(int,input().split())\n",
    "ar=np.array([input().strip().split()for _ in range(N)],int)\n",
    "result=np.sum(ar,axis=0)\n",
    "print(np.prod(result))\n"
   ]
  }
 ],
 "metadata": {
  "kernelspec": {
   "display_name": "Python 3",
   "language": "python",
   "name": "python3"
  },
  "language_info": {
   "codemirror_mode": {
    "name": "ipython",
    "version": 3
   },
   "file_extension": ".py",
   "mimetype": "text/x-python",
   "name": "python",
   "nbconvert_exporter": "python",
   "pygments_lexer": "ipython3",
   "version": "3.6.7"
  }
 },
 "nbformat": 4,
 "nbformat_minor": 2
}
