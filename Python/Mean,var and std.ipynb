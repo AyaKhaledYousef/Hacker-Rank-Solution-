{
 "cells": [
  {
   "cell_type": "markdown",
   "metadata": {},
   "source": [
    "# Mean , Var and Std"
   ]
  },
  {
   "cell_type": "code",
   "execution_count": 1,
   "metadata": {},
   "outputs": [
    {
     "name": "stdout",
     "output_type": "stream",
     "text": [
      "2 3\n",
      "2 3 6\n",
      "3 2 6\n",
      "[ 3.66666667  3.66666667]\n",
      "[ 0.25  0.25  0.  ]\n",
      "1.6996731712\n"
     ]
    }
   ],
   "source": [
    "import numpy as np\n",
    "np.set_printoptions(legacy='1.13')\n",
    "N,M=map(int,input().split())\n",
    "n=np.array([input().strip().split()for _ in range(N)],int)\n",
    "print(np.mean(n,axis=1),np.var(n,axis=0),np.std(n),sep=\"\\n\")"
   ]
  },
  {
   "cell_type": "code",
   "execution_count": null,
   "metadata": {},
   "outputs": [],
   "source": []
  }
 ],
 "metadata": {
  "kernelspec": {
   "display_name": "Python 3",
   "language": "python",
   "name": "python3"
  },
  "language_info": {
   "codemirror_mode": {
    "name": "ipython",
    "version": 3
   },
   "file_extension": ".py",
   "mimetype": "text/x-python",
   "name": "python",
   "nbconvert_exporter": "python",
   "pygments_lexer": "ipython3",
   "version": "3.6.7"
  }
 },
 "nbformat": 4,
 "nbformat_minor": 2
}
