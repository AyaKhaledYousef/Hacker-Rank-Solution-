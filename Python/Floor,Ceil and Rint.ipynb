{
 "cells": [
  {
   "cell_type": "markdown",
   "metadata": {},
   "source": [
    "# Floor,Ceil and Rint"
   ]
  },
  {
   "cell_type": "code",
   "execution_count": 1,
   "metadata": {},
   "outputs": [
    {
     "name": "stdout",
     "output_type": "stream",
     "text": [
      "1.2 6.5 3.2 9.8 4.2 6.5\n",
      "[ 1.  6.  3.  9.  4.  6.]\n",
      "[  2.   7.   4.  10.   5.   7.]\n",
      "[  1.   6.   3.  10.   4.   6.]\n"
     ]
    }
   ],
   "source": [
    "import numpy\n",
    "numpy.set_printoptions(sign=' ') #To more spaces\n",
    "\n",
    "a = numpy.array(input().split(),float)\n",
    "print( numpy.floor(a))      \n",
    "print( numpy.ceil(a))  \n",
    "print( numpy.rint(a))  "
   ]
  },
  {
   "cell_type": "code",
   "execution_count": null,
   "metadata": {},
   "outputs": [],
   "source": []
  }
 ],
 "metadata": {
  "kernelspec": {
   "display_name": "Python 3",
   "language": "python",
   "name": "python3"
  },
  "language_info": {
   "codemirror_mode": {
    "name": "ipython",
    "version": 3
   },
   "file_extension": ".py",
   "mimetype": "text/x-python",
   "name": "python",
   "nbconvert_exporter": "python",
   "pygments_lexer": "ipython3",
   "version": "3.6.7"
  }
 },
 "nbformat": 4,
 "nbformat_minor": 2
}
