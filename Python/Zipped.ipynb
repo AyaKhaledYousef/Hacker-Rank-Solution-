{
 "cells": [
  {
   "cell_type": "markdown",
   "metadata": {},
   "source": [
    "# Zipped"
   ]
  },
  {
   "cell_type": "code",
   "execution_count": 18,
   "metadata": {},
   "outputs": [
    {
     "name": "stdout",
     "output_type": "stream",
     "text": [
      "<zip object at 0x7f534c1ba048>\n"
     ]
    }
   ],
   "source": [
    "print (zip([1,2,3,4,5,6],'Hacker'))"
   ]
  },
  {
   "cell_type": "code",
   "execution_count": 16,
   "metadata": {},
   "outputs": [
    {
     "name": "stdout",
     "output_type": "stream",
     "text": [
      "[(1, 'H'), (2, 'a'), (3, 'c'), (4, 'k'), (5, 'e'), (6, 'r'), (7, 'r')]\n"
     ]
    }
   ],
   "source": [
    "print (list(zip([1,2,3,4,5,6,7],'Hackerrg')))"
   ]
  },
  {
   "cell_type": "code",
   "execution_count": 17,
   "metadata": {},
   "outputs": [
    {
     "name": "stdout",
     "output_type": "stream",
     "text": [
      "[(1, 0), (2, 9), (3, 8), (4, 7), (5, 6), (6, 5)]\n"
     ]
    }
   ],
   "source": [
    "print (list(zip([1,2,3,4,5,6],[0,9,8,7,6,5,4,3,2,1])))"
   ]
  },
  {
   "cell_type": "code",
   "execution_count": 19,
   "metadata": {},
   "outputs": [],
   "source": [
    "A = [1,2,3]\n",
    "B = [6,5,4]\n",
    "C = [7,8,9]\n",
    "X = [A] + [B] + [C]"
   ]
  },
  {
   "cell_type": "code",
   "execution_count": 21,
   "metadata": {},
   "outputs": [
    {
     "name": "stdout",
     "output_type": "stream",
     "text": [
      "[([1, 2, 3],), ([6, 5, 4],), ([7, 8, 9],)]\n"
     ]
    }
   ],
   "source": [
    "print (list(zip(X)))"
   ]
  },
  {
   "cell_type": "code",
   "execution_count": 22,
   "metadata": {},
   "outputs": [
    {
     "name": "stdout",
     "output_type": "stream",
     "text": [
      "[(1, 6, 7), (2, 5, 8), (3, 4, 9)]\n"
     ]
    }
   ],
   "source": [
    "print (list(zip(*X)))"
   ]
  },
  {
   "cell_type": "markdown",
   "metadata": {},
   "source": [
    "\n",
    "# Task"
   ]
  },
  {
   "cell_type": "markdown",
   "metadata": {},
   "source": [
    "The National University conducts an examination of  N students in X subjects. \n",
    "Your task is to compute the average scores of each student."
   ]
  },
  {
   "cell_type": "code",
   "execution_count": 24,
   "metadata": {},
   "outputs": [
    {
     "name": "stdout",
     "output_type": "stream",
     "text": [
      "3 2\n",
      "23 45 88 77 88 77 88\n",
      "22 66 88 99 77 88 99\n",
      "22.5\n",
      "55.5\n",
      "88.0\n",
      "88.0\n",
      "82.5\n",
      "82.5\n",
      "93.5\n"
     ]
    }
   ],
   "source": [
    "n, x = map(int, input().split()) \n",
    "result=[]\n",
    "for _ in range (x):\n",
    "    result.append( map(float, input().split()) ) \n",
    "\n",
    "for i in zip(*result): \n",
    "    print( sum(i)/len(i) )"
   ]
  },
  {
   "cell_type": "code",
   "execution_count": null,
   "metadata": {},
   "outputs": [],
   "source": []
  }
 ],
 "metadata": {
  "kernelspec": {
   "display_name": "Python 3",
   "language": "python",
   "name": "python3"
  },
  "language_info": {
   "codemirror_mode": {
    "name": "ipython",
    "version": 3
   },
   "file_extension": ".py",
   "mimetype": "text/x-python",
   "name": "python",
   "nbconvert_exporter": "python",
   "pygments_lexer": "ipython3",
   "version": "3.6.7"
  }
 },
 "nbformat": 4,
 "nbformat_minor": 2
}
