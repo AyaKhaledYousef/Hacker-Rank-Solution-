{
 "cells": [
  {
   "cell_type": "markdown",
   "metadata": {},
   "source": [
    "# Concatenate\n",
    "\n"
   ]
  },
  {
   "cell_type": "code",
   "execution_count": 15,
   "metadata": {},
   "outputs": [],
   "source": [
    "numpy.concatenate?"
   ]
  },
  {
   "cell_type": "code",
   "execution_count": 28,
   "metadata": {},
   "outputs": [
    {
     "name": "stdout",
     "output_type": "stream",
     "text": [
      "2 2 2\n",
      "4 5\n",
      "8 6\n",
      "7 6\n",
      "7 9\n",
      "[[4 5]\n",
      " [8 6]\n",
      " [7 6]\n",
      " [7 9]]\n"
     ]
    }
   ],
   "source": [
    "import numpy\n",
    "N,M,P=map(int, input().split())\n",
    "#print (numpy.concatenate((N +M)*P))\n",
    "#print(numpy.concatenate((numpy.array([[input().split()] for _ in range(N+M)],int)),axis=1))\n",
    "print(numpy.array([input().split() for _ in range(M+N)],int))\n"
   ]
  },
  {
   "cell_type": "code",
   "execution_count": null,
   "metadata": {},
   "outputs": [],
   "source": []
  }
 ],
 "metadata": {
  "kernelspec": {
   "display_name": "Python 3",
   "language": "python",
   "name": "python3"
  },
  "language_info": {
   "codemirror_mode": {
    "name": "ipython",
    "version": 3
   },
   "file_extension": ".py",
   "mimetype": "text/x-python",
   "name": "python",
   "nbconvert_exporter": "python",
   "pygments_lexer": "ipython3",
   "version": "3.6.7"
  }
 },
 "nbformat": 4,
 "nbformat_minor": 2
}
