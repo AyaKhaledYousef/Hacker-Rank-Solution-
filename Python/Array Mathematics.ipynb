{
 "cells": [
  {
   "cell_type": "markdown",
   "metadata": {},
   "source": [
    "# Array Mathematics"
   ]
  },
  {
   "cell_type": "code",
   "execution_count": 1,
   "metadata": {},
   "outputs": [
    {
     "name": "stdout",
     "output_type": "stream",
     "text": [
      "1 3\n",
      "2 2 2\n",
      "3 3 3\n",
      "[[5 5 5]]\n",
      "[[-1 -1 -1]]\n",
      "[[6 6 6]]\n",
      "[[0 0 0]]\n",
      "[[2 2 2]]\n",
      "[[8 8 8]]\n"
     ]
    }
   ],
   "source": [
    "import numpy as np\n",
    "N , M =map(int,input().split())\n",
    "A , B =(np.array([input().strip().split() for _ in range(N)],int) for _ in range(2))\n",
    "print (np.add(A, B))\n",
    "print (np.subtract(A, B))\n",
    "print (np.multiply(A, B))\n",
    "print ( A//B )\n",
    "print (np.mod(A, B))\n",
    "print (np.power(A, B))"
   ]
  }
 ],
 "metadata": {
  "kernelspec": {
   "display_name": "Python 3",
   "language": "python",
   "name": "python3"
  },
  "language_info": {
   "codemirror_mode": {
    "name": "ipython",
    "version": 3
   },
   "file_extension": ".py",
   "mimetype": "text/x-python",
   "name": "python",
   "nbconvert_exporter": "python",
   "pygments_lexer": "ipython3",
   "version": "3.6.7"
  }
 },
 "nbformat": 4,
 "nbformat_minor": 2
}
